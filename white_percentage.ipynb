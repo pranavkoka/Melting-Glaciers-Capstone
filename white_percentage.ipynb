{
 "cells": [
  {
   "cell_type": "code",
   "execution_count": 1,
   "metadata": {},
   "outputs": [],
   "source": [
    "import cv2\n",
    "import pandas as pd\n",
    "import numpy as np\n",
    "import os"
   ]
  },
  {
   "cell_type": "code",
   "execution_count": 2,
   "metadata": {},
   "outputs": [],
   "source": [
    "def calculate_white_percentage(image_path, threshold_value):\n",
    "\n",
    "    image = cv2.imread(image_path)\n",
    "    gray_image = cv2.cvtColor(image, cv2.COLOR_BGR2GRAY)\n",
    "    white_pixels = np.sum(gray_image > threshold_value)\n",
    "    total_pixels = gray_image.size\n",
    "    white_percentage = (white_pixels / total_pixels) * 100\n",
    "    return white_percentage"
   ]
  },
  {
   "cell_type": "code",
   "execution_count": 3,
   "metadata": {},
   "outputs": [
    {
     "name": "stdout",
     "output_type": "stream",
     "text": [
      "Percentage of white pixels: 71.24%\n",
      "Percentage of white pixels: 71.24%\n",
      "Percentage of white pixels: 71.24%\n",
      "Percentage of white pixels: 71.24%\n",
      "Percentage of white pixels: 71.24%\n",
      "Percentage of white pixels: 69.68%\n",
      "Percentage of white pixels: 78.36%\n",
      "Percentage of white pixels: 72.54%\n",
      "Percentage of white pixels: 73.76%\n",
      "Percentage of white pixels: 53.56%\n",
      "Percentage of white pixels: 53.45%\n",
      "Percentage of white pixels: 67.66%\n",
      "Percentage of white pixels: 50.98%\n",
      "Percentage of white pixels: 53.23%\n",
      "Percentage of white pixels: 66.17%\n",
      "Percentage of white pixels: 65.55%\n",
      "Percentage of white pixels: 50.80%\n",
      "Percentage of white pixels: 54.91%\n",
      "Percentage of white pixels: 53.20%\n",
      "Percentage of white pixels: 58.91%\n",
      "Percentage of white pixels: 54.87%\n",
      "Percentage of white pixels: 49.83%\n",
      "Percentage of white pixels: 49.55%\n",
      "Percentage of white pixels: 54.93%\n",
      "Percentage of white pixels: 49.66%\n",
      "Percentage of white pixels: 51.91%\n",
      "Percentage of white pixels: 48.37%\n",
      "Percentage of white pixels: 44.10%\n",
      "Percentage of white pixels: 48.17%\n",
      "Percentage of white pixels: 40.91%\n",
      "Percentage of white pixels: 47.91%\n",
      "Percentage of white pixels: 36.87%\n",
      "Percentage of white pixels: 55.91%\n",
      "Percentage of white pixels: 52.46%\n",
      "Percentage of white pixels: 59.52%\n",
      "Percentage of white pixels: 64.17%\n",
      "Percentage of white pixels: 52.48%\n",
      "Percentage of white pixels: 57.31%\n",
      "Percentage of white pixels: 57.31%\n",
      "Percentage of white pixels: 57.31%\n",
      "Percentage of white pixels: 57.31%\n",
      "Percentage of white pixels: 57.31%\n",
      "Percentage of white pixels: 57.59%\n",
      "Percentage of white pixels: 66.36%\n",
      "Percentage of white pixels: 59.71%\n",
      "Percentage of white pixels: 61.27%\n",
      "Percentage of white pixels: 44.49%\n",
      "Percentage of white pixels: 43.42%\n",
      "Percentage of white pixels: 58.66%\n",
      "Percentage of white pixels: 43.20%\n",
      "Percentage of white pixels: 42.76%\n",
      "Percentage of white pixels: 58.65%\n",
      "Percentage of white pixels: 56.72%\n",
      "Percentage of white pixels: 38.62%\n",
      "Percentage of white pixels: 43.61%\n",
      "Percentage of white pixels: 46.19%\n",
      "Percentage of white pixels: 49.81%\n",
      "Percentage of white pixels: 46.76%\n",
      "Percentage of white pixels: 43.52%\n",
      "Percentage of white pixels: 39.24%\n",
      "Percentage of white pixels: 46.79%\n",
      "Percentage of white pixels: 43.43%\n",
      "Percentage of white pixels: 45.56%\n",
      "Percentage of white pixels: 43.06%\n",
      "Percentage of white pixels: 34.34%\n",
      "Percentage of white pixels: 40.22%\n",
      "Percentage of white pixels: 32.64%\n",
      "Percentage of white pixels: 40.33%\n",
      "Percentage of white pixels: 29.04%\n",
      "Percentage of white pixels: 43.79%\n",
      "Percentage of white pixels: 44.41%\n",
      "Percentage of white pixels: 51.96%\n",
      "Percentage of white pixels: 54.47%\n",
      "Percentage of white pixels: 43.25%\n"
     ]
    }
   ],
   "source": [
    "directory = r\"photos\"\n",
    "paths = []\n",
    "for filename in os.listdir(directory):\n",
    "    path = os.path.join(directory, filename)\n",
    "    paths.append(path)\n",
    "\n",
    "percentages1 = []\n",
    "for path in paths:\n",
    "    white_percentage = calculate_white_percentage(path, 200)\n",
    "    percentages1.append(white_percentage)\n",
    "    print(f\"Percentage of white pixels: {white_percentage:.2f}%\")\n",
    "\n",
    "percentages2 = []\n",
    "for path in paths:\n",
    "    white_percentage = calculate_white_percentage(path, 240)\n",
    "    percentages2.append(white_percentage)\n",
    "    print(f\"Percentage of white pixels: {white_percentage:.2f}%\")"
   ]
  },
  {
   "cell_type": "code",
   "execution_count": 4,
   "metadata": {},
   "outputs": [],
   "source": [
    "gray_image_test = cv2.cvtColor(cv2.imread(paths[36]), cv2.COLOR_BGR2GRAY)\n",
    "\n",
    "for i in range(200, 244, 4):\n",
    "    threshold_value = i\n",
    "    modified_image = np.where(gray_image_test < threshold_value, 0, gray_image_test)\n",
    "\n",
    "    filename = f\"test_photos/2020_{threshold_value}.png\"\n",
    "    cv2.imwrite(filename, modified_image)"
   ]
  },
  {
   "cell_type": "code",
   "execution_count": 5,
   "metadata": {},
   "outputs": [],
   "source": [
    "df = pd.DataFrame()\n",
    "df['years'] = range(1984, 2021)\n",
    "df['white_percentage_1'] = percentages1\n",
    "df['white_percentage_2'] = percentages2\n",
    "\n",
    "df.to_csv(\"data/white_percentage_df.csv\", index=False)"
   ]
  }
 ],
 "metadata": {
  "kernelspec": {
   "display_name": "Python 3",
   "language": "python",
   "name": "python3"
  },
  "language_info": {
   "codemirror_mode": {
    "name": "ipython",
    "version": 3
   },
   "file_extension": ".py",
   "mimetype": "text/x-python",
   "name": "python",
   "nbconvert_exporter": "python",
   "pygments_lexer": "ipython3",
   "version": "3.12.1"
  }
 },
 "nbformat": 4,
 "nbformat_minor": 2
}
