{
 "cells": [
  {
   "cell_type": "code",
   "execution_count": null,
   "metadata": {},
   "outputs": [],
   "source": [
    "import cv2\n",
    "import numpy as np\n",
    "\n",
    "def calculate_white_percentage(image_path):\n",
    "    # Load the color image\n",
    "    image = cv2.imread(image_path)\n",
    "    \n",
    "    # Convert the image to grayscale\n",
    "    gray_image = cv2.cvtColor(image, cv2.COLOR_BGR2GRAY)\n",
    "    \n",
    "    # Define the threshold for what counts as \"white\"\n",
    "    threshold_value = 240\n",
    "    white_pixels = np.sum(gray_image > threshold_value)\n",
    "    \n",
    "    # Calculate the total number of pixels\n",
    "    total_pixels = gray_image.size\n",
    "    \n",
    "    # Calculate the percentage of white pixels\n",
    "    white_percentage = (white_pixels / total_pixels) * 100\n",
    "    \n",
    "    return white_percentage\n",
    "\n",
    "# Example usage\n",
    "image_path = 'path_to_your_image.jpg'\n",
    "white_percentage = calculate_white_percentage(image_path)\n",
    "print(f\"Percentage of white pixels: {white_percentage:.2f}%\")"
   ]
  },
  {
   "cell_type": "code",
   "execution_count": null,
   "metadata": {},
   "outputs": [],
   "source": []
  }
 ],
 "metadata": {
  "kernelspec": {
   "display_name": "Python 3",
   "language": "python",
   "name": "python3"
  },
  "language_info": {
   "name": "python",
   "version": "3.12.1"
  }
 },
 "nbformat": 4,
 "nbformat_minor": 2
}
