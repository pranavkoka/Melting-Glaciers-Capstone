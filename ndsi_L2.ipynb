{
 "cells": [
  {
   "cell_type": "code",
   "execution_count": 11,
   "metadata": {},
   "outputs": [],
   "source": [
    "import ee\n",
    "import pandas as pd\n",
    "from tqdm import tqdm\n",
    "\n",
    "ee.Initialize(project='pranavkoka123') \n",
    "\n",
    "geometry = ee.Geometry.Rectangle([78.97, 30.70, 79.20, 30.79])"
   ]
  },
  {
   "cell_type": "code",
   "execution_count": 9,
   "metadata": {},
   "outputs": [],
   "source": [
    "def calculate_ndsi_and_confidence(image):\n",
    "    green = image.select('SR_B3').rename('Green')\n",
    "    swir = image.select('SR_B6').rename('SWIR')\n",
    "    ndsi = green.subtract(swir).divide(green.add(swir)).rename('NDSI')\n",
    "    qa_pixel = image.select('QA_PIXEL')\n",
    "    snow_confidence = qa_pixel.rightShift(5).bitwiseAnd(1).rename('Snow_Confidence')\n",
    "    cloud_confidence = qa_pixel.rightShift(3).bitwiseAnd(1).rename('Cloud_Confidence')\n",
    "\n",
    "    return image.addBands([ndsi, green, swir, snow_confidence, cloud_confidence])"
   ]
  },
  {
   "cell_type": "code",
   "execution_count": 4,
   "metadata": {},
   "outputs": [],
   "source": [
    "def calculate_pixel_counts(image):\n",
    "    s0c0 = image.select('Snow_Confidence').eq(0).And(image.select('Cloud_Confidence').eq(0))\n",
    "    s1c0 = image.select('Snow_Confidence').eq(1).And(image.select('Cloud_Confidence').eq(0))\n",
    "    s0c1 = image.select('Snow_Confidence').eq(0).And(image.select('Cloud_Confidence').eq(1))\n",
    "    s1c1 = image.select('Snow_Confidence').eq(1).And(image.select('Cloud_Confidence').eq(1))\n",
    "\n",
    "    counts = {\n",
    "        's0c0': int(s0c0.reduceRegion(ee.Reducer.sum(), geometry, scale=30).get('Snow_Confidence').getInfo() or 0),\n",
    "        's1c0': int(s1c0.reduceRegion(ee.Reducer.sum(), geometry, scale=30).get('Snow_Confidence').getInfo() or 0),\n",
    "        's0c1': int(s0c1.reduceRegion(ee.Reducer.sum(), geometry, scale=30).get('Snow_Confidence').getInfo() or 0),\n",
    "        's1c1': int(s1c1.reduceRegion(ee.Reducer.sum(), geometry, scale=30).get('Snow_Confidence').getInfo() or 0)\n",
    "    }\n",
    "\n",
    "    return counts"
   ]
  },
  {
   "cell_type": "code",
   "execution_count": 10,
   "metadata": {},
   "outputs": [
    {
     "name": "stdout",
     "output_type": "stream",
     "text": [
      "     year  month    s0c0   s1c0    s0c1  s1c1\n",
      "0    2013      4   50597  36094  157484     0\n",
      "1    2013      5   51440  71532  120772     0\n",
      "2    2013      6   35263  42887  166026     0\n",
      "3    2013      7   44537  58378  141261     0\n",
      "4    2013      8   14118   9153  220904     0\n",
      "..    ...    ...     ...    ...     ...   ...\n",
      "124  2023      8   49624  37174  157377     0\n",
      "125  2023      9   82249    359  156412     0\n",
      "126  2023     10  172963  29234   41979     0\n",
      "127  2023     11   53284  44634  144278     0\n",
      "128  2023     12    4484      0  239692     0\n",
      "\n",
      "[129 rows x 6 columns]\n"
     ]
    }
   ],
   "source": [
    "def process_monthly_data(year, month):\n",
    "    start_date = ee.Date.fromYMD(year, month, 1)\n",
    "    end_date = start_date.advance(1, 'month')\n",
    "\n",
    "    image = ee.ImageCollection('LANDSAT/LC08/C02/T1_L2').filterDate(start_date, end_date).filterDate(start_date, end_date).filterBounds(geometry).first()\n",
    "\n",
    "    image_ndsi_conf = calculate_ndsi_and_confidence(image)\n",
    "\n",
    "    pixel_counts = calculate_pixel_counts(image_ndsi_conf)\n",
    "\n",
    "    return {\n",
    "        'year': year,\n",
    "        'month': month,\n",
    "        's0c0': pixel_counts['s0c0'],\n",
    "        's1c0': pixel_counts['s1c0'],\n",
    "        's0c1': pixel_counts['s0c1'],\n",
    "        's1c1': pixel_counts['s1c1']\n",
    "    }\n",
    "\n",
    "# Loop over the years and months to generate the dataframe\n",
    "results = []\n",
    "for year in range(2013, 2024):\n",
    "    if year == 2013:\n",
    "        for month in range(4,13):\n",
    "            result = process_monthly_data(year, month)\n",
    "            results.append(result)\n",
    "    else:    \n",
    "        for month in range(1, 13):\n",
    "            result = process_monthly_data(year, month)\n",
    "            results.append(result)\n",
    "\n",
    "# Convert the results to a DataFrame\n",
    "df = pd.DataFrame(results)\n",
    "\n",
    "# Display the DataFrame\n",
    "print(df)"
   ]
  },
  {
   "cell_type": "code",
   "execution_count": 14,
   "metadata": {},
   "outputs": [
    {
     "name": "stderr",
     "output_type": "stream",
     "text": [
      "100%|██████████| 12/12 [02:29<00:00, 12.42s/it]\n"
     ]
    },
    {
     "name": "stdout",
     "output_type": "stream",
     "text": [
      "         year  month      ndsi   swir  green  s1c0  s0c1\n",
      "0        2014      1  0.546370  10925  37242     1     0\n",
      "1        2014      1  0.485096   8810  25410     1     0\n",
      "2        2014      1  0.550795   9467  32683     1     0\n",
      "3        2014      1  0.571165   9979  36561     1     0\n",
      "4        2014      1  0.551812   9578  33163     1     0\n",
      "...       ...    ...       ...    ...    ...   ...   ...\n",
      "2929442  2014     12 -0.269306  10475  13261     0     0\n",
      "2929443  2014     12 -0.276912  12474  12598     0     0\n",
      "2929444  2014     12 -0.220872  13666  15103     0     0\n",
      "2929445  2014     12 -0.292963  13900  12791     0     0\n",
      "2929446  2014     12 -0.272054  12956  13471     0     0\n",
      "\n",
      "[2929447 rows x 7 columns]\n"
     ]
    }
   ],
   "source": [
    "def get_bands_data(year, month):\n",
    "    start_date = ee.Date.fromYMD(year, month, 1)\n",
    "    end_date = start_date.advance(1, 'month')\n",
    "    image = ee.ImageCollection('LANDSAT/LC08/C02/T1_L2').filterDate(start_date, end_date).filterDate(start_date, end_date).filterBounds(geometry).first()\n",
    "    image_ndsi_conf = calculate_ndsi_and_confidence(image)\n",
    "\n",
    "    data = image_ndsi_conf.reduceRegion(reducer=ee.Reducer.toList(), geometry=geometry, scale=30, maxPixels=1e8).getInfo()\n",
    "\n",
    "    ndsi_values = data.get('NDSI', [])\n",
    "    snow_confidence_values = data.get('Snow_Confidence', [])\n",
    "    cloud_confidence_values = data.get('Cloud_Confidence', [])\n",
    "    swir = data.get('SWIR', [])\n",
    "    green = data.get('Green', [])\n",
    "\n",
    "    min_length = min(len(ndsi_values), len(swir), len(green), len(snow_confidence_values), len(cloud_confidence_values))\n",
    "    \n",
    "    if min_length == 0:\n",
    "        print(f\"No data for year {year}, month {month}. Skipping.\")\n",
    "        return []\n",
    "\n",
    "    month_data = []\n",
    "    for i in range(min_length):\n",
    "        month_data.append({\n",
    "            'year': year,\n",
    "            'month': month,\n",
    "            'ndsi': ndsi_values[i],\n",
    "            'swir': swir[i],\n",
    "            'green': green[i],\n",
    "            's1c0': int(snow_confidence_values[i] == 1 and cloud_confidence_values[i] == 0),\n",
    "            's0c1': int(snow_confidence_values[i] == 0 and cloud_confidence_values[i] == 1)\n",
    "        })\n",
    "\n",
    "    return month_data\n",
    "\n",
    "results = []\n",
    "for month in tqdm(range(1, 13)):\n",
    "    month_data = get_bands_data(2014, month)\n",
    "    results.extend(month_data)\n",
    "\n",
    "df_bands = pd.DataFrame(results)\n",
    "\n",
    "print(df_bands)"
   ]
  },
  {
   "cell_type": "code",
   "execution_count": 15,
   "metadata": {},
   "outputs": [],
   "source": [
    "df_bands['swir'] = df_bands['swir']*0.0000275 - 0.2\n",
    "df_bands['green'] = df_bands['green']*0.0000275 - 0.2"
   ]
  }
 ],
 "metadata": {
  "kernelspec": {
   "display_name": "Python 3",
   "language": "python",
   "name": "python3"
  },
  "language_info": {
   "codemirror_mode": {
    "name": "ipython",
    "version": 3
   },
   "file_extension": ".py",
   "mimetype": "text/x-python",
   "name": "python",
   "nbconvert_exporter": "python",
   "pygments_lexer": "ipython3",
   "version": "3.12.1"
  }
 },
 "nbformat": 4,
 "nbformat_minor": 2
}
