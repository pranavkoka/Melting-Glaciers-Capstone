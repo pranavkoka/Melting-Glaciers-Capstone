{
 "cells": [
  {
   "cell_type": "code",
   "execution_count": 1,
   "metadata": {},
   "outputs": [],
   "source": [
    "import ee\n",
    "import pandas as pd\n",
    "from tqdm import tqdm\n",
    "\n",
    "ee.Initialize(project='pranavkoka123') \n",
    "\n",
    "geometry = ee.Geometry.Rectangle([78.97, 30.70, 79.20, 30.79])"
   ]
  },
  {
   "cell_type": "code",
   "execution_count": 2,
   "metadata": {},
   "outputs": [],
   "source": [
    "def calculate_ndsi_and_confidence(image):\n",
    "    green = image.select('SR_B3').rename('Green')\n",
    "    swir = image.select('SR_B6').rename('SWIR')\n",
    "    ndsi = green.subtract(swir).divide(green.add(swir)).rename('NDSI')\n",
    "    qa_pixel = image.select('QA_PIXEL')\n",
    "    snow_confidence = qa_pixel.rightShift(5).bitwiseAnd(1).rename('Snow_Confidence')\n",
    "    cloud_confidence = qa_pixel.rightShift(3).bitwiseAnd(1).rename('Cloud_Confidence')\n",
    "\n",
    "    return image.addBands([ndsi, green, swir, snow_confidence, cloud_confidence])"
   ]
  },
  {
   "cell_type": "code",
   "execution_count": 3,
   "metadata": {},
   "outputs": [],
   "source": [
    "def calculate_pixel_counts(image):\n",
    "    s0c0 = image.select('Snow_Confidence').eq(0).And(image.select('Cloud_Confidence').eq(0))\n",
    "    s1c0 = image.select('Snow_Confidence').eq(1).And(image.select('Cloud_Confidence').eq(0))\n",
    "    s0c1 = image.select('Snow_Confidence').eq(0).And(image.select('Cloud_Confidence').eq(1))\n",
    "    s1c1 = image.select('Snow_Confidence').eq(1).And(image.select('Cloud_Confidence').eq(1))\n",
    "\n",
    "    counts = {\n",
    "        's0c0': int(s0c0.reduceRegion(ee.Reducer.sum(), geometry, scale=30).get('Snow_Confidence').getInfo() or 0),\n",
    "        's1c0': int(s1c0.reduceRegion(ee.Reducer.sum(), geometry, scale=30).get('Snow_Confidence').getInfo() or 0),\n",
    "        's0c1': int(s0c1.reduceRegion(ee.Reducer.sum(), geometry, scale=30).get('Snow_Confidence').getInfo() or 0),\n",
    "        's1c1': int(s1c1.reduceRegion(ee.Reducer.sum(), geometry, scale=30).get('Snow_Confidence').getInfo() or 0)\n",
    "    }\n",
    "\n",
    "    return counts"
   ]
  },
  {
   "cell_type": "code",
   "execution_count": null,
   "metadata": {},
   "outputs": [],
   "source": [
    "def process_monthly_data(year, month):\n",
    "    start_date = ee.Date.fromYMD(year, month, 1)\n",
    "    end_date = start_date.advance(1, 'month')\n",
    "\n",
    "    image = ee.ImageCollection('LANDSAT/LC08/C02/T1_L2').filterDate(start_date, end_date).filterDate(start_date, end_date).filterBounds(geometry).first()\n",
    "\n",
    "    image_ndsi_conf = calculate_ndsi_and_confidence(image)\n",
    "\n",
    "    pixel_counts = calculate_pixel_counts(image_ndsi_conf)\n",
    "\n",
    "    return {\n",
    "        'year': year,\n",
    "        'month': month,\n",
    "        's0c0': pixel_counts['s0c0'],\n",
    "        's1c0': pixel_counts['s1c0'],\n",
    "        's0c1': pixel_counts['s0c1'],\n",
    "        's1c1': pixel_counts['s1c1']\n",
    "    }\n",
    "\n",
    "# Loop over the years and months to generate the dataframe\n",
    "results = []\n",
    "for year in tqdm(range(2013, 2024)):\n",
    "    if year == 2013:\n",
    "        for month in range(4,13):\n",
    "            result = process_monthly_data(year, month)\n",
    "            results.append(result)\n",
    "    else:    \n",
    "        for month in range(1, 13):\n",
    "            result = process_monthly_data(year, month)\n",
    "            results.append(result)\n",
    "\n",
    "# Convert the results to a DataFrame\n",
    "df = pd.DataFrame(results)\n",
    "\n",
    "# Display the DataFrame\n",
    "print(df)"
   ]
  },
  {
   "cell_type": "code",
   "execution_count": 5,
   "metadata": {},
   "outputs": [
    {
     "name": "stderr",
     "output_type": "stream",
     "text": [
      "100%|██████████| 11/11 [24:17<00:00, 132.52s/it]\n"
     ]
    },
    {
     "name": "stdout",
     "output_type": "stream",
     "text": [
      "          year  month      ndsi   swir  green  s1c0  s0c1  s0c0\n",
      "0         2013      4  0.605625   7951  32371     1     0     0\n",
      "1         2013      4  0.588216   8121  31322     1     0     0\n",
      "2         2013      4  0.598631   7976  31768     1     0     0\n",
      "3         2013      4  0.607796   7919  32463     1     0     0\n",
      "4         2013      4  0.606939   7987  32653     1     0     0\n",
      "...        ...    ...       ...    ...    ...   ...   ...   ...\n",
      "31275742  2023     12  0.183154  21064  30510     0     1     0\n",
      "31275743  2023     12  0.175733  17622  25136     0     1     0\n",
      "31275744  2023     12  0.196210  17943  26703     0     1     0\n",
      "31275745  2023     12  0.197210  19108  28496     0     1     0\n",
      "31275746  2023     12  0.187884  19572  28628     0     1     0\n",
      "\n",
      "[31275747 rows x 8 columns]\n"
     ]
    }
   ],
   "source": [
    "def get_bands_data(year, month):\n",
    "    start_date = ee.Date.fromYMD(year, month, 1)\n",
    "    end_date = start_date.advance(1, 'month')\n",
    "    image = ee.ImageCollection('LANDSAT/LC08/C02/T1_L2').filterDate(start_date, end_date).filterDate(start_date, end_date).filterBounds(geometry).first()\n",
    "    image_ndsi_conf = calculate_ndsi_and_confidence(image)\n",
    "\n",
    "    data = image_ndsi_conf.reduceRegion(reducer=ee.Reducer.toList(), geometry=geometry, scale=30, maxPixels=1e8).getInfo()\n",
    "\n",
    "    ndsi_values = data.get('NDSI', [])\n",
    "    snow_confidence_values = data.get('Snow_Confidence', [])\n",
    "    cloud_confidence_values = data.get('Cloud_Confidence', [])\n",
    "    swir = data.get('SWIR', [])\n",
    "    green = data.get('Green', [])\n",
    "\n",
    "    # min_length = min(len(ndsi_values), len(swir), len(green), len(snow_confidence_values), len(cloud_confidence_values))\n",
    "    \n",
    "    # if min_length == 0:\n",
    "    #     print(f\"No data for year {year}, month {month}. Skipping.\")\n",
    "    #     return []\n",
    "\n",
    "    month_data = []\n",
    "    for i in range(len(ndsi_values)):\n",
    "        month_data.append({\n",
    "            'year': year,\n",
    "            'month': month,\n",
    "            'ndsi': ndsi_values[i],\n",
    "            'swir': swir[i],\n",
    "            'green': green[i],\n",
    "            's1c0': int(snow_confidence_values[i] == 1 and cloud_confidence_values[i] == 0),\n",
    "            's0c1': int(snow_confidence_values[i] == 0 and cloud_confidence_values[i] == 1),\n",
    "            's0c0': int(snow_confidence_values[i] == 0 and cloud_confidence_values[i] == 0)\n",
    "        })\n",
    "\n",
    "    return month_data\n",
    "\n",
    "results = []\n",
    "for year in tqdm(range(2013, 2024)):\n",
    "    if year == 2013:\n",
    "        for month in range(4,13):\n",
    "            result = get_bands_data(year, month)\n",
    "            results.extend(result)\n",
    "    else:    \n",
    "        for month in range(1, 13):\n",
    "            result = get_bands_data(year, month)\n",
    "            results.extend(result)\n",
    "\n",
    "df_bands = pd.DataFrame(results)\n",
    "\n",
    "print(df_bands)"
   ]
  },
  {
   "cell_type": "code",
   "execution_count": 6,
   "metadata": {},
   "outputs": [],
   "source": [
    "df_bands['swir'] = df_bands['swir']*0.0000275 - 0.2\n",
    "df_bands['green'] = df_bands['green']*0.0000275 - 0.2\n",
    "df_bands['ndsi'] = (df_bands['green']-df_bands['swir'])/(df_bands['green']+df_bands['swir'])"
   ]
  },
  {
   "cell_type": "code",
   "execution_count": 7,
   "metadata": {},
   "outputs": [],
   "source": [
    "df_bands.to_csv(r'data\\bands_ndsi.csv')"
   ]
  },
  {
   "cell_type": "code",
   "execution_count": null,
   "metadata": {},
   "outputs": [],
   "source": [
    "# year = 2014\n",
    "# month = 5\n",
    "# start_date = ee.Date.fromYMD(year, month, 1)\n",
    "# end_date = start_date.advance(1, 'month')\n",
    "# image = ee.ImageCollection('LANDSAT/LC08/C02/T1_L2').filterDate(start_date, end_date).filterDate(start_date, end_date).filterBounds(geometry).first()\n",
    "# image_ndsi_conf = calculate_ndsi_and_confidence(image)\n",
    "\n",
    "# data = image_ndsi_conf.reduceRegion(reducer=ee.Reducer.toList(), geometry=geometry, scale=30, maxPixels=1e8).getInfo()\n",
    "\n",
    "# ndsi_values = data.get('NDSI', [])\n",
    "# snow_confidence_values = data.get('Snow_Confidence', [])\n",
    "# cloud_confidence_values = data.get('Cloud_Confidence', [])\n",
    "# swir = data.get('SWIR', [])\n",
    "# green = data.get('Green', [])"
   ]
  },
  {
   "cell_type": "code",
   "execution_count": null,
   "metadata": {},
   "outputs": [],
   "source": [
    "# print(len(ndsi_values), len(snow_confidence_values), len(cloud_confidence_values), len(swir), len(green))"
   ]
  }
 ],
 "metadata": {
  "kernelspec": {
   "display_name": "Python 3",
   "language": "python",
   "name": "python3"
  },
  "language_info": {
   "codemirror_mode": {
    "name": "ipython",
    "version": 3
   },
   "file_extension": ".py",
   "mimetype": "text/x-python",
   "name": "python",
   "nbconvert_exporter": "python",
   "pygments_lexer": "ipython3",
   "version": "3.12.1"
  }
 },
 "nbformat": 4,
 "nbformat_minor": 2
}
